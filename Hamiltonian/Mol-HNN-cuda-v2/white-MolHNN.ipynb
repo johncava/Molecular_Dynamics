{
 "cells": [
  {
   "cell_type": "code",
   "execution_count": 21,
   "metadata": {},
   "outputs": [],
   "source": [
    "# Hamiltonian Neural Networks | 2019\n",
    "# Sam Greydanus, Misko Dzamba, Jason Yosinski\n",
    "\n",
    "import torch, argparse\n",
    "import numpy as np\n",
    "\n",
    "import os, sys\n",
    "THIS_DIR = os.path.dirname(os.path.abspath(\"\"))\n",
    "THIS_DIR = os.path.join(THIS_DIR, \"whitened-Mol-HNN-cuda\")\n",
    "# PARENT_DIR = os.path.dirname(os.path.dirname(os.path.abspath(__file__)))\n",
    "# sys.path.append(PARENT_DIR)\n",
    "\n",
    "from cuda_nn_models import MLP\n",
    "from cuda_hnn import HNN\n",
    "from cuda_utils import L2_loss, to_pickle, from_pickle\n",
    "# from data import get_dataset, coords2state, get_orbit, random_config\n",
    "# from data import potential_energy, kinetic_energy, total_energy"
   ]
  },
  {
   "cell_type": "code",
   "execution_count": 5,
   "metadata": {},
   "outputs": [],
   "source": [
    "##\n",
    "# Loading in the whitened Dataset\n",
    "##\n",
    "import glob\n",
    "\n",
    "\n",
    "files = glob.glob('./../SMD_data/*.npy')\n",
    "\n",
    "dataset = []\n",
    "\n",
    "for file_ in files:\n",
    "    X_positions = np.load(file_)\n",
    "    X = X_positions\n",
    "\n",
    "    # Sample down the amount of sequenced frames from 20K to 2K\n",
    "#     X = X[::10]\n",
    "    #print(X.shape)\n",
    "    # Create Training dataset from this sequence\n",
    "    dataset.append(X)"
   ]
  },
  {
   "cell_type": "code",
   "execution_count": 7,
   "metadata": {},
   "outputs": [],
   "source": [
    "num_trajectories = 100\n",
    "num_atoms = 40\n",
    "\n",
    "\n",
    "dataset = np.array(dataset)\n",
    "dataset = dataset.reshape(num_trajectories, -1, num_atoms*3)"
   ]
  },
  {
   "cell_type": "code",
   "execution_count": null,
   "metadata": {},
   "outputs": [],
   "source": []
  },
  {
   "cell_type": "code",
   "execution_count": 3,
   "metadata": {},
   "outputs": [],
   "source": [
    "##\n",
    "# Loading in the datasets\n",
    "##\n",
    "# num_trajectories = 100\n",
    "# num_atoms = 40\n",
    "\n",
    "# dataset = []\n",
    "# for i in range(num_trajectories):\n",
    "#     NUM = str(i).zfill(2)\n",
    "#     fName = \"../../10_deca_alanine/\" + NUM + \"/backbone.npy\"\n",
    "#     rawCoord = np.load(fName)\n",
    "#     dataset.append(rawCoord)\n",
    "\n",
    "# dataset = np.array(dataset) ## shape: (100, 20000, 40, 3)\n",
    "# dataset = dataset.reshape(num_trajectories, -1, num_atoms*3)"
   ]
  },
  {
   "cell_type": "code",
   "execution_count": 11,
   "metadata": {},
   "outputs": [],
   "source": [
    "## Downsampling\n",
    "# dataset = dataset[:, ::2, :] # downsampling just for training purposes to make it easier\n"
   ]
  },
  {
   "cell_type": "code",
   "execution_count": 9,
   "metadata": {},
   "outputs": [],
   "source": [
    "x_dataset = []\n",
    "dx_dataset = []\n",
    "\n",
    "## Getting the velocity of each trajectory\n",
    "for traj_idx in range(num_trajectories):\n",
    "    traj = dataset[traj_idx]\n",
    "#     traj = dataset[0]\n",
    "    num_datapoints = traj.shape[0] - 1\n",
    "\n",
    "    momenta = []\n",
    "    for i in range(traj.shape[0] - 1):\n",
    "        dx = traj[i+1] - traj[i]\n",
    "        momenta.append(dx)\n",
    "\n",
    "    momenta = np.array(momenta) ## convert to an np array\n",
    "\n",
    "    ## stack the coordinates so that we have all the positions and all the momentums\n",
    "    coords = np.stack((traj[:-1], momenta), 1) ## shape: (19999, 2, 120)\n",
    "    coords = coords.reshape(num_datapoints, 2 * 120) ## shape: (19999, 240)\n",
    "    \n",
    "    ## Now we need to calculate the change in coords (positions and momentums)\n",
    "    delta_coords = []\n",
    "    for frame in range(coords.shape[0] - 1):\n",
    "        dx = coords[frame+1] - coords[frame]\n",
    "        delta_coords.append(dx)\n",
    "    delta_coords = np.array(delta_coords)\n",
    "    \n",
    "    ## appending to the dataset\n",
    "    x_dataset.append(coords[:-1])\n",
    "    dx_dataset.append(delta_coords)\n",
    "\n",
    "\n",
    "x_dataset = np.array(x_dataset) ## shape of (100, 19998, 240)\n",
    "dx_dataset = np.array(dx_dataset) ## shape of (100, 19998, 240)\n",
    "\n",
    "x_dataset = x_dataset.reshape(-1, 240) ## shape of (1999800, 240)\n",
    "dx_dataset = dx_dataset.reshape(-1, 240) ## shape of (1999800, 240)\n",
    "\n",
    "# x_dataset[0] + dx_dataset[0] == x_dataset[1] ## This is just a sanity check that we can predict the next step"
   ]
  },
  {
   "cell_type": "code",
   "execution_count": null,
   "metadata": {},
   "outputs": [],
   "source": []
  },
  {
   "cell_type": "code",
   "execution_count": 14,
   "metadata": {},
   "outputs": [
    {
     "data": {
      "text/plain": [
       "60060"
      ]
     },
     "execution_count": 14,
     "metadata": {},
     "output_type": "execute_result"
    }
   ],
   "source": [
    "batch_size = 100\n",
    "epochs = 3\n",
    "total_steps = int(x_dataset.shape[0] / 100 * epochs)\n",
    "total_steps"
   ]
  },
  {
   "cell_type": "code",
   "execution_count": 22,
   "metadata": {},
   "outputs": [],
   "source": [
    "## just for quick load don't need this\n",
    "\n",
    "# np.save(\"whitened_x_dataset.npy\", x_dataset)\n",
    "# np.save(\"whitened_dx_dataset.npy\", dx_dataset)\n",
    "\n",
    "x_dataset = np.load(\"whitened_x_dataset.npy\")\n",
    "dx_dataset = np.load(\"whitened_dx_dataset.npy\")\n",
    "\n",
    "x = torch.tensor(x_dataset, requires_grad=True, dtype=torch.float32).cuda()\n",
    "dxdt = torch.Tensor(dx_dataset).cuda()"
   ]
  },
  {
   "cell_type": "markdown",
   "metadata": {},
   "source": [
    "## Training the HNN"
   ]
  },
  {
   "cell_type": "code",
   "execution_count": 23,
   "metadata": {},
   "outputs": [],
   "source": [
    "# arrange data\n",
    "def get_args():\n",
    "    return {'input_dim': 240, # 40 atoms, each with q_x, q_y, p_z, p_y\n",
    "         'hidden_dim': 200,\n",
    "         'learn_rate': 1e-3,\n",
    "         'input_noise': 0.1, ## NO INPUT NOISE YET\n",
    "         'batch_size': 100,\n",
    "         'nonlinearity': 'leaky',\n",
    "         'total_steps': total_steps, ## 3 epochs effectively i guess\n",
    "         'field_type': 'helmholtz', ## change this? solenoidal\n",
    "         'print_every': 200,\n",
    "         'verbose': True,\n",
    "         'name': '2body',\n",
    "         'baseline' : False,\n",
    "         'seed': 0,\n",
    "         'save_dir': '{}'.format(THIS_DIR),\n",
    "         'fig_dir': './figures'}\n",
    "\n",
    "class ObjectView(object):\n",
    "    def __init__(self, d): self.__dict__ = d\n",
    "\n",
    "args = ObjectView(get_args())"
   ]
  },
  {
   "cell_type": "code",
   "execution_count": 24,
   "metadata": {},
   "outputs": [],
   "source": [
    "output_dim = 2\n",
    "nn_model = MLP(args.input_dim, args.hidden_dim, output_dim, args.nonlinearity)\n",
    "model = HNN(args.input_dim, differentiable_model=nn_model,\n",
    "        field_type=args.field_type, baseline=args.baseline)\n",
    "optim = torch.optim.Adam(model.parameters(), args.learn_rate, weight_decay=0)"
   ]
  },
  {
   "cell_type": "code",
   "execution_count": 25,
   "metadata": {},
   "outputs": [
    {
     "name": "stdout",
     "output_type": "stream",
     "text": [
      "step 0, train_loss 4.7467e-02, test_loss 4.2000e+02, grad norm 1.9623e-07, grad std 9.6804e-07\n"
     ]
    },
    {
     "ename": "KeyboardInterrupt",
     "evalue": "",
     "output_type": "error",
     "traceback": [
      "\u001b[0;31m---------------------------------------------------------------------------\u001b[0m",
      "\u001b[0;31mKeyboardInterrupt\u001b[0m                         Traceback (most recent call last)",
      "\u001b[0;32m/tmp/ipykernel_225571/794638306.py\u001b[0m in \u001b[0;36m<module>\u001b[0;34m\u001b[0m\n\u001b[1;32m      9\u001b[0m \u001b[0;34m\u001b[0m\u001b[0m\n\u001b[1;32m     10\u001b[0m     \u001b[0mloss\u001b[0m \u001b[0;34m=\u001b[0m \u001b[0mL2_loss\u001b[0m\u001b[0;34m(\u001b[0m\u001b[0mdxdt\u001b[0m\u001b[0;34m[\u001b[0m\u001b[0mixs\u001b[0m\u001b[0;34m]\u001b[0m\u001b[0;34m,\u001b[0m \u001b[0mdxdt_hat\u001b[0m\u001b[0;34m)\u001b[0m\u001b[0;34m\u001b[0m\u001b[0;34m\u001b[0m\u001b[0m\n\u001b[0;32m---> 11\u001b[0;31m     \u001b[0mloss\u001b[0m\u001b[0;34m.\u001b[0m\u001b[0mbackward\u001b[0m\u001b[0;34m(\u001b[0m\u001b[0;34m)\u001b[0m\u001b[0;34m\u001b[0m\u001b[0;34m\u001b[0m\u001b[0m\n\u001b[0m\u001b[1;32m     12\u001b[0m     \u001b[0mgrad\u001b[0m \u001b[0;34m=\u001b[0m \u001b[0mtorch\u001b[0m\u001b[0;34m.\u001b[0m\u001b[0mcat\u001b[0m\u001b[0;34m(\u001b[0m\u001b[0;34m[\u001b[0m\u001b[0mp\u001b[0m\u001b[0;34m.\u001b[0m\u001b[0mgrad\u001b[0m\u001b[0;34m.\u001b[0m\u001b[0mflatten\u001b[0m\u001b[0;34m(\u001b[0m\u001b[0;34m)\u001b[0m \u001b[0;32mfor\u001b[0m \u001b[0mp\u001b[0m \u001b[0;32min\u001b[0m \u001b[0mmodel\u001b[0m\u001b[0;34m.\u001b[0m\u001b[0mparameters\u001b[0m\u001b[0;34m(\u001b[0m\u001b[0;34m)\u001b[0m\u001b[0;34m]\u001b[0m\u001b[0;34m)\u001b[0m\u001b[0;34m.\u001b[0m\u001b[0mclone\u001b[0m\u001b[0;34m(\u001b[0m\u001b[0;34m)\u001b[0m\u001b[0;34m\u001b[0m\u001b[0;34m\u001b[0m\u001b[0m\n\u001b[1;32m     13\u001b[0m     \u001b[0moptim\u001b[0m\u001b[0;34m.\u001b[0m\u001b[0mstep\u001b[0m\u001b[0;34m(\u001b[0m\u001b[0;34m)\u001b[0m \u001b[0;34m;\u001b[0m \u001b[0moptim\u001b[0m\u001b[0;34m.\u001b[0m\u001b[0mzero_grad\u001b[0m\u001b[0;34m(\u001b[0m\u001b[0;34m)\u001b[0m\u001b[0;34m\u001b[0m\u001b[0;34m\u001b[0m\u001b[0m\n",
      "\u001b[0;32m~/.conda/envs/nichola2_pt/lib/python3.7/site-packages/torch/_tensor.py\u001b[0m in \u001b[0;36mbackward\u001b[0;34m(self, gradient, retain_graph, create_graph, inputs)\u001b[0m\n\u001b[1;32m    253\u001b[0m                 \u001b[0mcreate_graph\u001b[0m\u001b[0;34m=\u001b[0m\u001b[0mcreate_graph\u001b[0m\u001b[0;34m,\u001b[0m\u001b[0;34m\u001b[0m\u001b[0;34m\u001b[0m\u001b[0m\n\u001b[1;32m    254\u001b[0m                 inputs=inputs)\n\u001b[0;32m--> 255\u001b[0;31m         \u001b[0mtorch\u001b[0m\u001b[0;34m.\u001b[0m\u001b[0mautograd\u001b[0m\u001b[0;34m.\u001b[0m\u001b[0mbackward\u001b[0m\u001b[0;34m(\u001b[0m\u001b[0mself\u001b[0m\u001b[0;34m,\u001b[0m \u001b[0mgradient\u001b[0m\u001b[0;34m,\u001b[0m \u001b[0mretain_graph\u001b[0m\u001b[0;34m,\u001b[0m \u001b[0mcreate_graph\u001b[0m\u001b[0;34m,\u001b[0m \u001b[0minputs\u001b[0m\u001b[0;34m=\u001b[0m\u001b[0minputs\u001b[0m\u001b[0;34m)\u001b[0m\u001b[0;34m\u001b[0m\u001b[0;34m\u001b[0m\u001b[0m\n\u001b[0m\u001b[1;32m    256\u001b[0m \u001b[0;34m\u001b[0m\u001b[0m\n\u001b[1;32m    257\u001b[0m     \u001b[0;32mdef\u001b[0m \u001b[0mregister_hook\u001b[0m\u001b[0;34m(\u001b[0m\u001b[0mself\u001b[0m\u001b[0;34m,\u001b[0m \u001b[0mhook\u001b[0m\u001b[0;34m)\u001b[0m\u001b[0;34m:\u001b[0m\u001b[0;34m\u001b[0m\u001b[0;34m\u001b[0m\u001b[0m\n",
      "\u001b[0;32m~/.conda/envs/nichola2_pt/lib/python3.7/site-packages/torch/autograd/__init__.py\u001b[0m in \u001b[0;36mbackward\u001b[0;34m(tensors, grad_tensors, retain_graph, create_graph, grad_variables, inputs)\u001b[0m\n\u001b[1;32m    147\u001b[0m     Variable._execution_engine.run_backward(\n\u001b[1;32m    148\u001b[0m         \u001b[0mtensors\u001b[0m\u001b[0;34m,\u001b[0m \u001b[0mgrad_tensors_\u001b[0m\u001b[0;34m,\u001b[0m \u001b[0mretain_graph\u001b[0m\u001b[0;34m,\u001b[0m \u001b[0mcreate_graph\u001b[0m\u001b[0;34m,\u001b[0m \u001b[0minputs\u001b[0m\u001b[0;34m,\u001b[0m\u001b[0;34m\u001b[0m\u001b[0;34m\u001b[0m\u001b[0m\n\u001b[0;32m--> 149\u001b[0;31m         allow_unreachable=True, accumulate_grad=True)  # allow_unreachable flag\n\u001b[0m\u001b[1;32m    150\u001b[0m \u001b[0;34m\u001b[0m\u001b[0m\n\u001b[1;32m    151\u001b[0m \u001b[0;34m\u001b[0m\u001b[0m\n",
      "\u001b[0;31mKeyboardInterrupt\u001b[0m: "
     ]
    }
   ],
   "source": [
    "# vanilla train loop\n",
    "stats = {'train_loss': [], 'test_loss': []}\n",
    "for step in range(args.total_steps+1):\n",
    "\n",
    "    # train step\n",
    "    ixs = torch.randperm(x.shape[0])[:args.batch_size]\n",
    "    dxdt_hat = model.time_derivative(x[ixs])\n",
    "    dxdt_hat += args.input_noise * torch.randn(*x[ixs].shape).cuda() # add noise, maybe\n",
    "    \n",
    "    loss = L2_loss(dxdt[ixs], dxdt_hat)\n",
    "    loss.backward()\n",
    "    grad = torch.cat([p.grad.flatten() for p in model.parameters()]).clone()\n",
    "    optim.step() ; optim.zero_grad()\n",
    "\n",
    "    # run test data\n",
    "#     test_ixs = torch.randperm(test_x.shape[0])[:args.batch_size]\n",
    "#     test_dxdt_hat = model.time_derivative(test_x[test_ixs])\n",
    "#     test_dxdt_hat += args.input_noise * torch.randn(*test_x[test_ixs].shape) # add noise, maybe\n",
    "#     test_loss = L2_loss(test_dxdt[test_ixs], test_dxdt_hat)\n",
    "\n",
    "    # logging\n",
    "    stats['train_loss'].append(loss.item())\n",
    "#     stats['test_loss'].append(test_loss.item())\n",
    "    if args.verbose and step % args.print_every == 0:\n",
    "        print(\"step {}, train_loss {:.4e}, test_loss {:.4e}, grad norm {:.4e}, grad std {:.4e}\"\n",
    "          .format(step, loss.item(), 420, grad@grad, grad.std()))\n",
    "\n",
    "print(\"=> Finished Training <=\")\n",
    "\n",
    "## Saving model\n",
    "PATH = \"white-MOLHNNv1.pt\"\n",
    "torch.save(model.state_dict(), PATH)"
   ]
  },
  {
   "cell_type": "code",
   "execution_count": null,
   "metadata": {},
   "outputs": [],
   "source": []
  }
 ],
 "metadata": {
  "kernelspec": {
   "display_name": "nichola2_pt",
   "language": "python",
   "name": "nichola2_pt"
  },
  "language_info": {
   "codemirror_mode": {
    "name": "ipython",
    "version": 3
   },
   "file_extension": ".py",
   "mimetype": "text/x-python",
   "name": "python",
   "nbconvert_exporter": "python",
   "pygments_lexer": "ipython3",
   "version": "3.7.10"
  }
 },
 "nbformat": 4,
 "nbformat_minor": 2
}
