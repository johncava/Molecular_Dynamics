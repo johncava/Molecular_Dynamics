{
 "cells": [
  {
   "cell_type": "markdown",
   "metadata": {},
   "source": [
    "# TorchMD API tutorial"
   ]
  },
  {
   "cell_type": "markdown",
   "metadata": {},
   "source": [
    "## System setup"
   ]
  },
  {
   "cell_type": "markdown",
   "metadata": {},
   "source": [
    "We use the `moleculekit` library for reading the input topologies and starting coordinates"
   ]
  },
  {
   "cell_type": "code",
   "execution_count": 1,
   "metadata": {},
   "outputs": [],
   "source": [
    "from moleculekit.molecule import Molecule\n",
    "import os\n",
    "\n",
    "testdir = \"./data/\"\n",
    "mol = Molecule(os.path.join(testdir, \"backbone-no-improp.psf\"))  # Reading the system topology\n",
    "mol.read(os.path.join(testdir, \"backbone.pdb\"))  # Reading the initial simulation coordinates\n",
    "#mol.read(os.path.join(testdir, \"input.xsc\"))  # Reading the box dimensions"
   ]
  },
  {
   "cell_type": "code",
   "execution_count": 2,
   "metadata": {},
   "outputs": [
    {
     "name": "stdout",
     "output_type": "stream",
     "text": [
      "0.0\n",
      "term1\n",
      "0.0\n",
      "term2\n",
      "3.0\n"
     ]
    }
   ],
   "source": [
    "\n",
    "mydict = {'terms': {'term1': {'phi_k': 0.0, 'per': 1, 'phase': 0.0}, 'term2': {'phi_k': 3.0, 'per': 1, 'phase': 0.0}}}\n",
    "print(mydict['terms'][\"term1\"]['phi_k'])\n",
    "for term in mydict['terms']:\n",
    "    print(term)\n",
    "    print(mydict[\"terms\"][term]['phi_k'])"
   ]
  },
  {
   "cell_type": "markdown",
   "metadata": {},
   "source": [
    "Next we will load a forcefield file and use the above topology to extract the relevant parameters which will be used for the simulation"
   ]
  },
  {
   "cell_type": "code",
   "execution_count": 8,
   "metadata": {},
   "outputs": [
    {
     "name": "stdout",
     "output_type": "stream",
     "text": [
      "{'terms': {'term1': {'phi_k': 0.0, 'per': 1, 'phase': 0.0}}}\n",
      "term1\n",
      "{'terms': {'term1': {'phi_k': 0.4, 'per': 1, 'phase': 0.0}}}\n",
      "term1\n",
      "{'terms': {'term1': {'phi_k': 1.6, 'per': 1, 'phase': 0.0}}}\n",
      "term1\n",
      "{'terms': {'term1': {'phi_k': 0.2, 'per': 1, 'phase': 180.0}}}\n",
      "term1\n",
      "{'terms': {'term1': {'phi_k': 2.5, 'per': 2, 'phase': 180.0}}}\n",
      "term1\n",
      "{'terms': {'term1': {'phi_k': 0.0, 'per': 1, 'phase': 0.0}}}\n",
      "term1\n",
      "{'terms': {'term1': {'phi_k': 0.4, 'per': 1, 'phase': 0.0}}}\n",
      "term1\n",
      "{'terms': {'term1': {'phi_k': 1.6, 'per': 1, 'phase': 0.0}}}\n",
      "term1\n",
      "{'terms': {'term1': {'phi_k': 0.2, 'per': 1, 'phase': 180.0}}}\n",
      "term1\n",
      "{'terms': {'term1': {'phi_k': 2.5, 'per': 2, 'phase': 180.0}}}\n",
      "term1\n",
      "{'terms': {'term1': {'phi_k': 0.0, 'per': 1, 'phase': 0.0}}}\n",
      "term1\n",
      "{'terms': {'term1': {'phi_k': 0.4, 'per': 1, 'phase': 0.0}}}\n",
      "term1\n",
      "{'terms': {'term1': {'phi_k': 1.6, 'per': 1, 'phase': 0.0}}}\n",
      "term1\n",
      "{'terms': {'term1': {'phi_k': 0.2, 'per': 1, 'phase': 180.0}}}\n",
      "term1\n",
      "{'terms': {'term1': {'phi_k': 2.5, 'per': 2, 'phase': 180.0}}}\n",
      "term1\n",
      "{'terms': {'term1': {'phi_k': 0.0, 'per': 1, 'phase': 0.0}}}\n",
      "term1\n",
      "{'terms': {'term1': {'phi_k': 0.4, 'per': 1, 'phase': 0.0}}}\n",
      "term1\n",
      "{'terms': {'term1': {'phi_k': 1.6, 'per': 1, 'phase': 0.0}}}\n",
      "term1\n",
      "{'terms': {'term1': {'phi_k': 0.2, 'per': 1, 'phase': 180.0}}}\n",
      "term1\n",
      "{'terms': {'term1': {'phi_k': 2.5, 'per': 2, 'phase': 180.0}}}\n",
      "term1\n",
      "{'terms': {'term1': {'phi_k': 0.0, 'per': 1, 'phase': 0.0}}}\n",
      "term1\n",
      "{'terms': {'term1': {'phi_k': 0.4, 'per': 1, 'phase': 0.0}}}\n",
      "term1\n",
      "{'terms': {'term1': {'phi_k': 1.6, 'per': 1, 'phase': 0.0}}}\n",
      "term1\n",
      "{'terms': {'term1': {'phi_k': 0.2, 'per': 1, 'phase': 180.0}}}\n",
      "term1\n",
      "{'terms': {'term1': {'phi_k': 2.5, 'per': 2, 'phase': 180.0}}}\n",
      "term1\n",
      "{'terms': {'term1': {'phi_k': 0.0, 'per': 1, 'phase': 0.0}}}\n",
      "term1\n",
      "{'terms': {'term1': {'phi_k': 0.4, 'per': 1, 'phase': 0.0}}}\n",
      "term1\n",
      "{'terms': {'term1': {'phi_k': 1.6, 'per': 1, 'phase': 0.0}}}\n",
      "term1\n",
      "{'terms': {'term1': {'phi_k': 0.2, 'per': 1, 'phase': 180.0}}}\n",
      "term1\n",
      "{'terms': {'term1': {'phi_k': 2.5, 'per': 2, 'phase': 180.0}}}\n",
      "term1\n",
      "{'terms': {'term1': {'phi_k': 0.0, 'per': 1, 'phase': 0.0}}}\n",
      "term1\n",
      "{'terms': {'term1': {'phi_k': 0.4, 'per': 1, 'phase': 0.0}}}\n",
      "term1\n",
      "{'terms': {'term1': {'phi_k': 1.6, 'per': 1, 'phase': 0.0}}}\n",
      "term1\n",
      "{'terms': {'term1': {'phi_k': 0.2, 'per': 1, 'phase': 180.0}}}\n",
      "term1\n",
      "{'terms': {'term1': {'phi_k': 2.5, 'per': 2, 'phase': 180.0}}}\n",
      "term1\n",
      "{'terms': {'term1': {'phi_k': 0.0, 'per': 1, 'phase': 0.0}}}\n",
      "term1\n",
      "{'terms': {'term1': {'phi_k': 0.4, 'per': 1, 'phase': 0.0}}}\n",
      "term1\n",
      "{'terms': {'term1': {'phi_k': 1.6, 'per': 1, 'phase': 0.0}}}\n",
      "term1\n",
      "{'terms': {'term1': {'phi_k': 0.2, 'per': 1, 'phase': 180.0}}}\n",
      "term1\n",
      "{'terms': {'term1': {'phi_k': 2.5, 'per': 2, 'phase': 180.0}}}\n",
      "term1\n",
      "{'terms': {'term1': {'phi_k': 0.0, 'per': 1, 'phase': 0.0}}}\n",
      "term1\n",
      "{'terms': {'term1': {'phi_k': 0.4, 'per': 1, 'phase': 0.0}}}\n",
      "term1\n",
      "{'terms': {'term1': {'phi_k': 1.6, 'per': 1, 'phase': 0.0}}}\n",
      "term1\n",
      "{'terms': {'term1': {'phi_k': 0.2, 'per': 1, 'phase': 180.0}}}\n",
      "term1\n",
      "{'terms': {'term1': {'phi_k': 2.5, 'per': 2, 'phase': 180.0}}}\n",
      "term1\n",
      "{'terms': {'term1': {'phi_k': 0.0, 'per': 1, 'phase': 0.0}}}\n",
      "term1\n"
     ]
    }
   ],
   "source": [
    "from torchmd.forcefields.forcefield import ForceField\n",
    "from torchmd.parameters import Parameters\n",
    "import torch\n",
    "\n",
    "precision = torch.float\n",
    "device = \"cuda:0\"\n",
    "\n",
    "ff = ForceField.create(mol, os.path.join(testdir, \"param_bb-3.0.yaml\"))\n",
    "#parameters = Parameters(ff, mol, precision=precision, device=device)\n",
    "parameters = Parameters(ff, mol, precision=precision)"
   ]
  },
  {
   "cell_type": "markdown",
   "metadata": {},
   "source": [
    "Now we can create a `System` object which will contain the state of the system during the simulation, including:\n",
    "1. The current atom coordinates\n",
    "1. The current box size\n",
    "1. The current atom velocities\n",
    "1. The current atom forces"
   ]
  },
  {
   "cell_type": "code",
   "execution_count": 9,
   "metadata": {},
   "outputs": [],
   "source": [
    "from torchmd.integrator import maxwell_boltzmann\n",
    "from torchmd.systems import System\n",
    "\n",
    "system = System(mol.numAtoms, nreplicas=1, precision=precision, device=None)\n",
    "system.set_positions(mol.coords)\n",
    "#system.set_box(mol.box)\n",
    "#system.set_velocities(maxwell_boltzmann(parameters.masses, T=300, replicas=1))"
   ]
  },
  {
   "cell_type": "markdown",
   "metadata": {},
   "source": [
    "Lastly we will create a `Force` object which will be used to evaluate the potential on a given `System` state"
   ]
  },
  {
   "cell_type": "code",
   "execution_count": 10,
   "metadata": {},
   "outputs": [
    {
     "name": "stdout",
     "output_type": "stream",
     "text": [
      "[{'electrostatics': 627.0636596679688, 'lj': 11.866900444030762, 'bonds': 20.15338134765625, 'angles': 21.72222900390625, 'dihedrals': 7.024267196655273, '1-4': 0.0, 'impropers': 0.0, 'external': 0.0}]\n",
      "tensor([[[ 9.4370e+00, -4.1128e+01, -1.6852e+01],\n",
      "         [-4.1977e+00,  3.3838e+01,  1.6829e+01],\n",
      "         [-1.9985e+01, -7.5960e-01, -2.3018e+01],\n",
      "         [ 2.0118e+01,  1.3214e+00,  1.3461e+01],\n",
      "         [-5.5166e+00,  1.1977e+00,  3.8847e-01],\n",
      "         [ 2.1103e+00,  2.6962e+00,  1.7270e+01],\n",
      "         [-1.0189e+01,  1.5651e+01, -3.7272e+01],\n",
      "         [ 4.3254e+00, -1.3596e+01,  6.9031e+00],\n",
      "         [ 1.1188e+01, -3.6457e+00,  8.7871e+00],\n",
      "         [-4.8800e+00,  7.3912e-02,  1.7853e+00],\n",
      "         [-3.7675e+01,  1.7862e+01,  3.7025e+01],\n",
      "         [ 3.4382e+01, -2.1014e+01, -1.6628e+01],\n",
      "         [ 1.2856e+01,  1.6769e+01, -2.1377e+01],\n",
      "         [ 3.4195e+01, -3.2903e+00, -2.9654e+01],\n",
      "         [-3.1014e+01,  1.6444e+01,  6.4842e+01],\n",
      "         [ 1.4955e+00, -1.4509e+00, -2.1269e+01],\n",
      "         [-8.0969e+00, -1.4808e+01, -2.4813e+01],\n",
      "         [-1.4182e+01,  1.3020e+01, -2.0112e+01],\n",
      "         [-4.6748e+00, -2.2551e+00,  4.8668e+01],\n",
      "         [ 4.8619e+00, -6.8609e+00, -2.0831e+01],\n",
      "         [ 2.0235e+01, -1.8742e+01, -7.5937e+00],\n",
      "         [-2.0987e+01, -1.0844e+01,  1.9936e+01],\n",
      "         [ 1.8877e+01,  3.5699e+01, -7.8102e+01],\n",
      "         [-6.2307e+00, -2.0175e+01,  3.7622e+01],\n",
      "         [ 1.1104e+01, -1.2227e+01,  1.6043e+01],\n",
      "         [-2.0297e+01,  1.1825e+01,  1.6888e+01],\n",
      "         [-1.2259e+01, -7.5458e+00, -1.6070e+01],\n",
      "         [ 1.1713e+01,  7.7203e+00,  1.4263e+01],\n",
      "         [ 9.8468e+00,  9.0388e+00,  4.4082e+00],\n",
      "         [-2.3873e+01, -4.1691e+01,  2.5118e+01],\n",
      "         [ 5.6156e+01,  3.6707e+01, -5.0358e+01],\n",
      "         [-2.7853e+01,  6.8871e+00,  2.9530e+01],\n",
      "         [-1.3554e+01,  3.9490e+00, -2.0194e+01],\n",
      "         [ 1.2138e+01, -3.6849e-01,  2.6386e+01],\n",
      "         [-1.6890e+01,  2.9167e+00, -2.7775e+01],\n",
      "         [-5.4167e-01, -4.2906e+00,  6.3286e+00],\n",
      "         [-2.4667e+01, -4.4082e+01, -5.5472e+01],\n",
      "         [ 1.5455e+01,  1.6400e+00,  3.0641e+01],\n",
      "         [ 1.1725e+01, -1.7540e+01,  4.4629e+01],\n",
      "         [ 5.3451e+00,  5.1058e+01, -3.6037e-01]]])\n"
     ]
    }
   ],
   "source": [
    "from torchmd.forces import Forces\n",
    "\n",
    "forces = Forces(parameters, cutoff=9, rfa=True, switch_dist=7.5)\n",
    "# Evaluate current energy and forces. Forces are modified in-place\n",
    "Epot = forces.compute(system.pos, system.box, system.forces, returnDetails=True)\n",
    "\n",
    "print(Epot)\n",
    "print(system.forces)"
   ]
  },
  {
   "cell_type": "markdown",
   "metadata": {},
   "source": [
    "## Dynamics"
   ]
  },
  {
   "cell_type": "markdown",
   "metadata": {},
   "source": [
    "For performing the dynamics we will create an `Integrator` object for integrating the time steps of the simulation as well as a `Wrapper` object for wrapping the system coordinates within the periodic cell"
   ]
  },
  {
   "cell_type": "code",
   "execution_count": null,
   "metadata": {},
   "outputs": [],
   "source": [
    "from torchmd.integrator import Integrator\n",
    "from torchmd.wrapper import Wrapper\n",
    "\n",
    "langevin_temperature = 300  # K\n",
    "langevin_gamma = 0.1\n",
    "timestep = 1  # fs\n",
    "\n",
    "integrator = Integrator(system, forces, timestep, device, gamma=langevin_gamma, T=langevin_temperature)\n",
    "wrapper = Wrapper(mol.numAtoms, mol.bonds if len(mol.bonds) else None, device)"
   ]
  },
  {
   "cell_type": "code",
   "execution_count": null,
   "metadata": {},
   "outputs": [],
   "source": [
    "from torchmd.minimizers import minimize_bfgs\n",
    "\n",
    "minimize_bfgs(system, forces, steps=500)  # Minimize the system"
   ]
  },
  {
   "cell_type": "markdown",
   "metadata": {},
   "source": [
    "Create a CSV file logger for the simulation which keeps track of the energies and temperature."
   ]
  },
  {
   "cell_type": "code",
   "execution_count": null,
   "metadata": {},
   "outputs": [],
   "source": [
    "from torchmd.utils import LogWriter\n",
    "\n",
    "logger = LogWriter(path=\"logs/\", keys=('iter','ns','epot','ekin','etot','T'), name='monitor.csv')"
   ]
  },
  {
   "cell_type": "markdown",
   "metadata": {},
   "source": [
    "Now we can finally perform the full dynamics"
   ]
  },
  {
   "cell_type": "code",
   "execution_count": null,
   "metadata": {},
   "outputs": [],
   "source": [
    "from tqdm import tqdm \n",
    "import numpy as np\n",
    "\n",
    "FS2NS = 1E-6 # Femtosecond to nanosecond conversion\n",
    "\n",
    "steps = 1000\n",
    "output_period = 10\n",
    "save_period = 100\n",
    "traj = []\n",
    "\n",
    "trajectoryout = \"mytrajectory.npy\"\n",
    "\n",
    "iterator = tqdm(range(1, int(steps / output_period) + 1))\n",
    "Epot = forces.compute(system.pos, system.box, system.forces)\n",
    "for i in iterator:\n",
    "    Ekin, Epot, T = integrator.step(niter=output_period)\n",
    "    wrapper.wrap(system.pos, system.box)\n",
    "    currpos = system.pos.detach().cpu().numpy().copy()\n",
    "    traj.append(currpos)\n",
    "    \n",
    "    if (i*output_period) % save_period  == 0:\n",
    "        np.save(trajectoryout, np.stack(traj, axis=2))\n",
    "\n",
    "    logger.write_row({'iter':i*output_period,'ns':FS2NS*i*output_period*timestep,'epot':Epot,'ekin':Ekin,'etot':Epot+Ekin,'T':T})"
   ]
  },
  {
   "cell_type": "code",
   "execution_count": null,
   "metadata": {},
   "outputs": [],
   "source": []
  }
 ],
 "metadata": {
  "kernelspec": {
   "display_name": "Python 3 (ipykernel)",
   "language": "python",
   "name": "python3"
  },
  "language_info": {
   "codemirror_mode": {
    "name": "ipython",
    "version": 3
   },
   "file_extension": ".py",
   "mimetype": "text/x-python",
   "name": "python",
   "nbconvert_exporter": "python",
   "pygments_lexer": "ipython3",
   "version": "3.7.10"
  }
 },
 "nbformat": 4,
 "nbformat_minor": 4
}
